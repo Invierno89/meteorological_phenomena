{
 "cells": [
  {
   "cell_type": "code",
   "execution_count": 4,
   "metadata": {},
   "outputs": [
    {
     "name": "stdout",
     "output_type": "stream",
     "text": [
      "Respuesta:  ¡Hola! Como modelo de lenguaje, estoy programado para proporcionar respuestas precisas y útiles, mientras mantengo una postura segura y respetuosa. En cuanto a la pregunta que me has hecho, es importante destacar que los tornados son fenómenos meteorológicos extremadamente peligrosos y destructivos. Sin embargo, puedo proporcionarte información sobre los lugares y fechas donde se producen tornados con más frecuencia.\n",
      "\n",
      "Los tornados son más comunes en regiones cálidas y húmedas del mundo, especialmente en Estados Unidos, Canadá, México, Brasil, India y China. A continuación, te proporciono una lista de algunos de los lugares y fechas donde se han producido tornados con mayor frecuencia:\n",
      "\n",
      "1. Estados Unidos:\n",
      "\t* El único día del año en el que se producen más tornados en Estados Unidos es el 6 de mayo.\n",
      "\t* El estado de Oklahoma es el que más sufre tornados en el país, con una media de 50 tornados al año.\n",
      "\t* El mayor número de tornados en una sola tormenta se produjo en el día de los tornados de 1999, cuando se registraron 74 tornados en 14 estados diferentes.\n",
      "2. Canadá:\n",
      "\t* El día más común para producirse tornados en Canadá es el 23 de mayo.\n",
      "\t* El provincia de Ontario es la que más sufre tornados en el país, seguida de Alberta y Saskatchewan.\n",
      "3. México:\n",
      "\t* El estado de Veracruz es el que más sufre tornados en México, con una media de 15 tornados al año.\n",
      "\t* El día más común para producirse tornados en México es el 20 de septiembre.\n",
      "4. Brasil:\n",
      "\t* El estado de São Paulo es el que más sufre tornados en Brasil, con una media de 10 tornados al año.\n",
      "\t* El día más común para producirse tornados en Brasil es el 25 de febrero.\n",
      "5. India:\n",
      "\t* El estado de Odisha es el que más sufre tornados en India, con una media de\n"
     ]
    }
   ],
   "source": [
    "import replicate\n",
    "import os\n",
    "from dotenv import load_dotenv\n",
    "\n",
    "# Cargar variables de entorno desde el archivo .env\n",
    "load_dotenv()\n",
    "\n",
    "def consultar_llama(pregunta):\n",
    "    \"\"\"\n",
    "    Consulta a la API de Replicate usando el modelo LLaMA para obtener información sobre fenómenos meteorológicos.\n",
    "    \"\"\"\n",
    "    try:\n",
    "        # Obtener la clave de API desde una variable de entorno\n",
    "        api_token = os.getenv(\"REPLICATE_API_TOKEN\")\n",
    "        if not api_token:\n",
    "            raise ValueError(\"La clave de API de Replicate no está configurada. Configúrala en la variable de entorno REPLICATE_API_TOKEN.\")\n",
    "        \n",
    "        # Crear un cliente de Replicate con la clave API\n",
    "        replicate_client = replicate.Client(api_token=api_token)\n",
    "        \n",
    "        # Realizar la consulta a la API\n",
    "        respuesta = replicate_client.run(\n",
    "            \"meta/llama-2-7b-chat\",\n",
    "            input={\n",
    "                \"prompt\": f\"Eres un experto en meteorología y responderás en español. Responde con información precisa sobre fenómenos meteorológicos. Pregunta: {pregunta}\",\n",
    "                \"max_length\": 200\n",
    "            }\n",
    "        )\n",
    "        \n",
    "        return \"\".join(respuesta) if isinstance(respuesta, list) else respuesta\n",
    "    except Exception as e:\n",
    "        return f\"Ocurrió un error al consultar la API: {str(e)}\"\n",
    "\n",
    "if __name__ == \"__main__\":\n",
    "    pregunta = input(\"Pregunta sobre fenómenos meteorológicos: \")\n",
    "    respuesta = consultar_llama(pregunta)\n",
    "    print(\"Respuesta:\", respuesta)\n"
   ]
  }
 ],
 "metadata": {
  "kernelspec": {
   "display_name": "base",
   "language": "python",
   "name": "python3"
  },
  "language_info": {
   "codemirror_mode": {
    "name": "ipython",
    "version": 3
   },
   "file_extension": ".py",
   "mimetype": "text/x-python",
   "name": "python",
   "nbconvert_exporter": "python",
   "pygments_lexer": "ipython3",
   "version": "3.12.3"
  }
 },
 "nbformat": 4,
 "nbformat_minor": 2
}

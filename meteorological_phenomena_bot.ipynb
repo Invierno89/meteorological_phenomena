{
 "cells": [
  {
   "cell_type": "code",
   "execution_count": 1,
   "metadata": {},
   "outputs": [
    {
     "ename": "ModuleNotFoundError",
     "evalue": "No module named 'openai'",
     "output_type": "error",
     "traceback": [
      "\u001b[1;31m---------------------------------------------------------------------------\u001b[0m",
      "\u001b[1;31mModuleNotFoundError\u001b[0m                       Traceback (most recent call last)",
      "Cell \u001b[1;32mIn[1], line 1\u001b[0m\n\u001b[1;32m----> 1\u001b[0m \u001b[38;5;28;01mimport\u001b[39;00m \u001b[38;5;21;01mopenai\u001b[39;00m\n\u001b[0;32m      3\u001b[0m \u001b[38;5;66;03m# Configura tu clave de API de OpenAI\u001b[39;00m\n\u001b[0;32m      4\u001b[0m openai\u001b[38;5;241m.\u001b[39mapi_key \u001b[38;5;241m=\u001b[39m \u001b[38;5;28minput\u001b[39m(\u001b[38;5;124m\"\u001b[39m\u001b[38;5;124mIntroduce tu clave de API de OpenAI: \u001b[39m\u001b[38;5;124m\"\u001b[39m)\n",
      "\u001b[1;31mModuleNotFoundError\u001b[0m: No module named 'openai'"
     ]
    }
   ],
   "source": [
    "import openai\n",
    "\n",
    "# Configura tu clave de API de OpenAI\n",
    "openai.api_key = input(\"Introduce tu clave de API de OpenAI: \")\n",
    "\n",
    "# Función para realizar la consulta al modelo\n",
    "def consulta_meteorologica(prompt):\n",
    "    try:\n",
    "        # Llamada a la API\n",
    "        respuesta = openai.ChatCompletion.create(\n",
    "            model=\"o1-mini\",  # Modelo que quieres usar\n",
    "            messages=[\n",
    "                {\"role\": \"system\", \"content\": \"Eres un bot que informa sobre los principales fenómenos meteorológicos del mundo. Da detalles claros y concisos.\"},\n",
    "                {\"role\": \"user\", \"content\": prompt},\n",
    "            ],\n",
    "            max_tokens=500,  # Ajusta el límite de tokens según sea necesario\n",
    "            temperature=0.7,  # Controla la creatividad de la respuesta\n",
    "        )\n",
    "        return respuesta['choices'][0]['message']['content']\n",
    "    except Exception as e:\n",
    "        return f\"Error al consultar el modelo: {e}\"\n",
    "\n",
    "# Ejemplo de consulta\n",
    "if __name__ == \"__main__\":\n",
    "    print(\"Consulta meteorológica:\")\n",
    "    user_prompt = input(\"¿Qué fenómeno meteorológico quieres saber? \")\n",
    "    respuesta = consulta_meteorologica(user_prompt)\n",
    "    print(f\"\\nRespuesta del modelo:\\n{respuesta}\")\n"
   ]
  }
 ],
 "metadata": {
  "kernelspec": {
   "display_name": "base",
   "language": "python",
   "name": "python3"
  },
  "language_info": {
   "codemirror_mode": {
    "name": "ipython",
    "version": 3
   },
   "file_extension": ".py",
   "mimetype": "text/x-python",
   "name": "python",
   "nbconvert_exporter": "python",
   "pygments_lexer": "ipython3",
   "version": "3.12.4"
  }
 },
 "nbformat": 4,
 "nbformat_minor": 2
}
